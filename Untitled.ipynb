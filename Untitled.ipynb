{
 "cells": [
  {
   "cell_type": "code",
   "execution_count": 1,
   "metadata": {},
   "outputs": [],
   "source": [
    "import tensorflow\n",
    "from tensorflow.keras.applications import VGG16"
   ]
  },
  {
   "cell_type": "code",
   "execution_count": 2,
   "metadata": {},
   "outputs": [],
   "source": [
    "import warnings\n",
    "warnings.filterwarnings('ignore')"
   ]
  },
  {
   "cell_type": "code",
   "execution_count": 3,
   "metadata": {},
   "outputs": [],
   "source": [
    "conv_base = VGG16(weights='imagenet', include_top=False, input_shape=(150, 150,3))"
   ]
  },
  {
   "cell_type": "code",
   "execution_count": 4,
   "metadata": {},
   "outputs": [
    {
     "name": "stdout",
     "output_type": "stream",
     "text": [
      "_________________________________________________________________\n",
      "Layer (type)                 Output Shape              Param #   \n",
      "=================================================================\n",
      "input_1 (InputLayer)         (None, 150, 150, 3)       0         \n",
      "_________________________________________________________________\n",
      "block1_conv1 (Conv2D)        (None, 150, 150, 64)      1792      \n",
      "_________________________________________________________________\n",
      "block1_conv2 (Conv2D)        (None, 150, 150, 64)      36928     \n",
      "_________________________________________________________________\n",
      "block1_pool (MaxPooling2D)   (None, 75, 75, 64)        0         \n",
      "_________________________________________________________________\n",
      "block2_conv1 (Conv2D)        (None, 75, 75, 128)       73856     \n",
      "_________________________________________________________________\n",
      "block2_conv2 (Conv2D)        (None, 75, 75, 128)       147584    \n",
      "_________________________________________________________________\n",
      "block2_pool (MaxPooling2D)   (None, 37, 37, 128)       0         \n",
      "_________________________________________________________________\n",
      "block3_conv1 (Conv2D)        (None, 37, 37, 256)       295168    \n",
      "_________________________________________________________________\n",
      "block3_conv2 (Conv2D)        (None, 37, 37, 256)       590080    \n",
      "_________________________________________________________________\n",
      "block3_conv3 (Conv2D)        (None, 37, 37, 256)       590080    \n",
      "_________________________________________________________________\n",
      "block3_pool (MaxPooling2D)   (None, 18, 18, 256)       0         \n",
      "_________________________________________________________________\n",
      "block4_conv1 (Conv2D)        (None, 18, 18, 512)       1180160   \n",
      "_________________________________________________________________\n",
      "block4_conv2 (Conv2D)        (None, 18, 18, 512)       2359808   \n",
      "_________________________________________________________________\n",
      "block4_conv3 (Conv2D)        (None, 18, 18, 512)       2359808   \n",
      "_________________________________________________________________\n",
      "block4_pool (MaxPooling2D)   (None, 9, 9, 512)         0         \n",
      "_________________________________________________________________\n",
      "block5_conv1 (Conv2D)        (None, 9, 9, 512)         2359808   \n",
      "_________________________________________________________________\n",
      "block5_conv2 (Conv2D)        (None, 9, 9, 512)         2359808   \n",
      "_________________________________________________________________\n",
      "block5_conv3 (Conv2D)        (None, 9, 9, 512)         2359808   \n",
      "_________________________________________________________________\n",
      "block5_pool (MaxPooling2D)   (None, 4, 4, 512)         0         \n",
      "=================================================================\n",
      "Total params: 14,714,688\n",
      "Trainable params: 14,714,688\n",
      "Non-trainable params: 0\n",
      "_________________________________________________________________\n"
     ]
    }
   ],
   "source": [
    "conv_base.summary()"
   ]
  },
  {
   "cell_type": "code",
   "execution_count": 5,
   "metadata": {},
   "outputs": [],
   "source": [
    "## add a densely connected layer to the convolution base\n",
    "from tensorflow.keras import models, layers, optimizers, losses, metrics"
   ]
  },
  {
   "cell_type": "code",
   "execution_count": 6,
   "metadata": {},
   "outputs": [],
   "source": [
    "model = models.Sequential()\n",
    "model.add(conv_base)\n",
    "model.add(layers.Flatten())\n",
    "model.add(layers.Dense(256, activation='relu'))\n",
    "model.add(layers.Dense(1, activation='sigmoid'))"
   ]
  },
  {
   "cell_type": "code",
   "execution_count": 7,
   "metadata": {},
   "outputs": [
    {
     "name": "stdout",
     "output_type": "stream",
     "text": [
      "_________________________________________________________________\n",
      "Layer (type)                 Output Shape              Param #   \n",
      "=================================================================\n",
      "vgg16 (Model)                (None, 4, 4, 512)         14714688  \n",
      "_________________________________________________________________\n",
      "flatten (Flatten)            (None, 8192)              0         \n",
      "_________________________________________________________________\n",
      "dense (Dense)                (None, 256)               2097408   \n",
      "_________________________________________________________________\n",
      "dense_1 (Dense)              (None, 1)                 257       \n",
      "=================================================================\n",
      "Total params: 16,812,353\n",
      "Trainable params: 16,812,353\n",
      "Non-trainable params: 0\n",
      "_________________________________________________________________\n"
     ]
    }
   ],
   "source": [
    "model.summary()"
   ]
  },
  {
   "cell_type": "code",
   "execution_count": 8,
   "metadata": {},
   "outputs": [
    {
     "name": "stdout",
     "output_type": "stream",
     "text": [
      "This is the number of trainable weights before freezing the conv base: 30\n"
     ]
    }
   ],
   "source": [
    "print('This is the number of trainable weights '\n",
    "      'before freezing the conv base:', len(model.trainable_weights))"
   ]
  },
  {
   "cell_type": "code",
   "execution_count": 9,
   "metadata": {},
   "outputs": [],
   "source": [
    "conv_base.trainable = False"
   ]
  },
  {
   "cell_type": "code",
   "execution_count": 10,
   "metadata": {},
   "outputs": [
    {
     "name": "stdout",
     "output_type": "stream",
     "text": [
      "This is the number of trainable weights after freezing the conv base: 4\n"
     ]
    }
   ],
   "source": [
    "print('This is the number of trainable weights '\n",
    "      'after freezing the conv base:', len(model.trainable_weights))"
   ]
  },
  {
   "cell_type": "code",
   "execution_count": 11,
   "metadata": {},
   "outputs": [],
   "source": [
    "train_dir = '/notebooks/sharedfolder/work/data/cats_and_dogs_small/train'\n",
    "validation_dir = '/notebooks/sharedfolder/work/data/cats_and_dogs_small/validation'"
   ]
  },
  {
   "cell_type": "code",
   "execution_count": 13,
   "metadata": {},
   "outputs": [
    {
     "name": "stdout",
     "output_type": "stream",
     "text": [
      "Found 2000 images belonging to 2 classes.\n",
      "Found 1000 images belonging to 2 classes.\n",
      "Epoch 1/30\n",
      " - 27s - loss: 0.4238 - acc: 0.8125 - val_loss: 0.3154 - val_acc: 0.8790\n",
      "Epoch 2/30\n",
      " - 25s - loss: 0.3932 - acc: 0.8205 - val_loss: 0.3013 - val_acc: 0.8800\n",
      "Epoch 3/30\n",
      " - 25s - loss: 0.3707 - acc: 0.8420 - val_loss: 0.2906 - val_acc: 0.8840\n",
      "Epoch 4/30\n",
      " - 25s - loss: 0.3644 - acc: 0.8370 - val_loss: 0.2794 - val_acc: 0.8910\n",
      "Epoch 5/30\n",
      " - 25s - loss: 0.3560 - acc: 0.8350 - val_loss: 0.2699 - val_acc: 0.8900\n",
      "Epoch 6/30\n",
      " - 25s - loss: 0.3449 - acc: 0.8540 - val_loss: 0.2657 - val_acc: 0.8890\n",
      "Epoch 7/30\n",
      " - 25s - loss: 0.3388 - acc: 0.8585 - val_loss: 0.2572 - val_acc: 0.8940\n",
      "Epoch 8/30\n",
      " - 25s - loss: 0.3367 - acc: 0.8490 - val_loss: 0.2634 - val_acc: 0.8880\n",
      "Epoch 9/30\n",
      " - 25s - loss: 0.3313 - acc: 0.8600 - val_loss: 0.2603 - val_acc: 0.8890\n",
      "Epoch 10/30\n",
      " - 25s - loss: 0.3288 - acc: 0.8630 - val_loss: 0.2541 - val_acc: 0.8980\n",
      "Epoch 11/30\n",
      " - 25s - loss: 0.3196 - acc: 0.8635 - val_loss: 0.2491 - val_acc: 0.8980\n",
      "Epoch 12/30\n",
      " - 25s - loss: 0.3074 - acc: 0.8675 - val_loss: 0.2443 - val_acc: 0.8960\n",
      "Epoch 13/30\n",
      " - 25s - loss: 0.3109 - acc: 0.8690 - val_loss: 0.2447 - val_acc: 0.8980\n",
      "Epoch 14/30\n",
      " - 25s - loss: 0.3086 - acc: 0.8660 - val_loss: 0.2699 - val_acc: 0.8860\n",
      "Epoch 15/30\n",
      " - 25s - loss: 0.3107 - acc: 0.8640 - val_loss: 0.2444 - val_acc: 0.9020\n",
      "Epoch 16/30\n",
      " - 25s - loss: 0.3086 - acc: 0.8710 - val_loss: 0.2409 - val_acc: 0.9000\n",
      "Epoch 17/30\n",
      " - 25s - loss: 0.2972 - acc: 0.8730 - val_loss: 0.2380 - val_acc: 0.9010\n",
      "Epoch 18/30\n",
      " - 25s - loss: 0.2967 - acc: 0.8695 - val_loss: 0.2364 - val_acc: 0.9000\n",
      "Epoch 19/30\n",
      " - 25s - loss: 0.2901 - acc: 0.8775 - val_loss: 0.2407 - val_acc: 0.9070\n",
      "Epoch 20/30\n",
      " - 25s - loss: 0.2940 - acc: 0.8810 - val_loss: 0.2409 - val_acc: 0.9070\n",
      "Epoch 21/30\n",
      " - 25s - loss: 0.2864 - acc: 0.8695 - val_loss: 0.2370 - val_acc: 0.9030\n",
      "Epoch 22/30\n",
      " - 25s - loss: 0.2899 - acc: 0.8755 - val_loss: 0.2374 - val_acc: 0.9020\n",
      "Epoch 23/30\n",
      " - 25s - loss: 0.2747 - acc: 0.8910 - val_loss: 0.2390 - val_acc: 0.9060\n",
      "Epoch 24/30\n",
      " - 25s - loss: 0.2775 - acc: 0.8810 - val_loss: 0.2395 - val_acc: 0.9000\n",
      "Epoch 25/30\n",
      " - 25s - loss: 0.2734 - acc: 0.8795 - val_loss: 0.2412 - val_acc: 0.8980\n",
      "Epoch 26/30\n",
      " - 25s - loss: 0.2871 - acc: 0.8660 - val_loss: 0.2374 - val_acc: 0.9080\n",
      "Epoch 27/30\n",
      " - 25s - loss: 0.2865 - acc: 0.8735 - val_loss: 0.2414 - val_acc: 0.9050\n",
      "Epoch 28/30\n",
      " - 25s - loss: 0.2849 - acc: 0.8850 - val_loss: 0.2345 - val_acc: 0.9070\n",
      "Epoch 29/30\n",
      " - 25s - loss: 0.2832 - acc: 0.8825 - val_loss: 0.2331 - val_acc: 0.9080\n",
      "Epoch 30/30\n",
      " - 25s - loss: 0.2737 - acc: 0.8815 - val_loss: 0.2320 - val_acc: 0.9090\n"
     ]
    }
   ],
   "source": [
    "from tensorflow.keras.preprocessing.image import ImageDataGenerator\n",
    "\n",
    "train_datagen = ImageDataGenerator(\n",
    "      rescale=1./255,\n",
    "      rotation_range=40,\n",
    "      width_shift_range=0.2,\n",
    "      height_shift_range=0.2,\n",
    "      shear_range=0.2,\n",
    "      zoom_range=0.2,\n",
    "      horizontal_flip=True,\n",
    "      fill_mode='nearest')\n",
    "\n",
    "# Note that the validation data should not be augmented!\n",
    "test_datagen = ImageDataGenerator(rescale=1./255)\n",
    "\n",
    "train_generator = train_datagen.flow_from_directory(\n",
    "        # This is the target directory\n",
    "        train_dir,\n",
    "        # All images will be resized to 150x150\n",
    "        target_size=(150, 150),\n",
    "        batch_size=20,\n",
    "        # Since we use binary_crossentropy loss, we need binary labels\n",
    "        class_mode='binary')\n",
    "\n",
    "validation_generator = test_datagen.flow_from_directory(\n",
    "        validation_dir,\n",
    "        target_size=(150, 150),\n",
    "        batch_size=20,\n",
    "        class_mode='binary')\n",
    "\n",
    "model.compile(loss='binary_crossentropy',\n",
    "              optimizer=optimizers.RMSprop(lr=2e-5),\n",
    "              metrics=['acc'])\n",
    "\n",
    "history = model.fit_generator(\n",
    "      train_generator,\n",
    "      steps_per_epoch=100,\n",
    "      epochs=30,\n",
    "      validation_data=validation_generator,\n",
    "      validation_steps=50,\n",
    "      verbose=2)"
   ]
  },
  {
   "cell_type": "code",
   "execution_count": 14,
   "metadata": {},
   "outputs": [],
   "source": [
    "model.save('cats_and_dogs_small_3.h5')"
   ]
  },
  {
   "cell_type": "code",
   "execution_count": 16,
   "metadata": {},
   "outputs": [
    {
     "data": {
      "image/png": "[encoded data removed]",
      "text/plain": [
       "<Figure size 432x288 with 1 Axes>"
      ]
     },
     "metadata": {
      "needs_background": "light"
     },
     "output_type": "display_data"
    },
    {
     "data": {
      "image/png": "[encoded data removed]",
      "text/plain": [
       "<Figure size 432x288 with 1 Axes>"
      ]
     },
     "metadata": {
      "needs_background": "light"
     },
     "output_type": "display_data"
    }
   ],
   "source": [
    "import matplotlib.pyplot as plt\n",
    "acc = history.history['acc']\n",
    "val_acc = history.history['val_acc']\n",
    "loss = history.history['loss']\n",
    "val_loss = history.history['val_loss']\n",
    "\n",
    "epochs = range(len(acc))\n",
    "\n",
    "plt.plot(epochs, acc, 'bo', label='Training acc')\n",
    "plt.plot(epochs, val_acc, 'b', label='Validation acc')\n",
    "plt.title('Training and validation accuracy')\n",
    "plt.legend()\n",
    "\n",
    "plt.figure()\n",
    "\n",
    "plt.plot(epochs, loss, 'bo', label='Training loss')\n",
    "plt.plot(epochs, val_loss, 'b', label='Validation loss')\n",
    "plt.title('Training and validation loss')\n",
    "plt.legend()\n",
    "\n",
    "plt.show()"
   ]
  },
  {
   "cell_type": "code",
   "execution_count": 17,
   "metadata": {},
   "outputs": [
    {
     "name": "stdout",
     "output_type": "stream",
     "text": [
      "_________________________________________________________________\n",
      "Layer (type)                 Output Shape              Param #   \n",
      "=================================================================\n",
      "input_1 (InputLayer)         (None, 150, 150, 3)       0         \n",
      "_________________________________________________________________\n",
      "block1_conv1 (Conv2D)        (None, 150, 150, 64)      1792      \n",
      "_________________________________________________________________\n",
      "block1_conv2 (Conv2D)        (None, 150, 150, 64)      36928     \n",
      "_________________________________________________________________\n",
      "block1_pool (MaxPooling2D)   (None, 75, 75, 64)        0         \n",
      "_________________________________________________________________\n",
      "block2_conv1 (Conv2D)        (None, 75, 75, 128)       73856     \n",
      "_________________________________________________________________\n",
      "block2_conv2 (Conv2D)        (None, 75, 75, 128)       147584    \n",
      "_________________________________________________________________\n",
      "block2_pool (MaxPooling2D)   (None, 37, 37, 128)       0         \n",
      "_________________________________________________________________\n",
      "block3_conv1 (Conv2D)        (None, 37, 37, 256)       295168    \n",
      "_________________________________________________________________\n",
      "block3_conv2 (Conv2D)        (None, 37, 37, 256)       590080    \n",
      "_________________________________________________________________\n",
      "block3_conv3 (Conv2D)        (None, 37, 37, 256)       590080    \n",
      "_________________________________________________________________\n",
      "block3_pool (MaxPooling2D)   (None, 18, 18, 256)       0         \n",
      "_________________________________________________________________\n",
      "block4_conv1 (Conv2D)        (None, 18, 18, 512)       1180160   \n",
      "_________________________________________________________________\n",
      "block4_conv2 (Conv2D)        (None, 18, 18, 512)       2359808   \n",
      "_________________________________________________________________\n",
      "block4_conv3 (Conv2D)        (None, 18, 18, 512)       2359808   \n",
      "_________________________________________________________________\n",
      "block4_pool (MaxPooling2D)   (None, 9, 9, 512)         0         \n",
      "_________________________________________________________________\n",
      "block5_conv1 (Conv2D)        (None, 9, 9, 512)         2359808   \n",
      "_________________________________________________________________\n",
      "block5_conv2 (Conv2D)        (None, 9, 9, 512)         2359808   \n",
      "_________________________________________________________________\n",
      "block5_conv3 (Conv2D)        (None, 9, 9, 512)         2359808   \n",
      "_________________________________________________________________\n",
      "block5_pool (MaxPooling2D)   (None, 4, 4, 512)         0         \n",
      "=================================================================\n",
      "Total params: 14,714,688\n",
      "Trainable params: 0\n",
      "Non-trainable params: 14,714,688\n",
      "_________________________________________________________________\n"
     ]
    }
   ],
   "source": [
    "conv_base.summary()"
   ]
  },
  {
   "cell_type": "code",
   "execution_count": 18,
   "metadata": {},
   "outputs": [],
   "source": [
    "conv_base.trainable = True\n",
    "\n",
    "set_trainable = False\n",
    "for layer in conv_base.layers:\n",
    "    if layer.name == 'block5_conv1':\n",
    "        set_trainable = True\n",
    "    if set_trainable:\n",
    "        layer.trainable = True\n",
    "    else:\n",
    "        layer.trainable = False"
   ]
  },
  {
   "cell_type": "code",
   "execution_count": null,
   "metadata": {},
   "outputs": [
    {
     "name": "stdout",
     "output_type": "stream",
     "text": [
      "Epoch 1/100\n",
      "100/100 [==============================] - 27s 271ms/step - loss: 0.2809 - acc: 0.8840 - val_loss: 0.2116 - val_acc: 0.9130\n",
      "Epoch 2/100\n",
      "100/100 [==============================] - 25s 249ms/step - loss: 0.2546 - acc: 0.8935 - val_loss: 0.2084 - val_acc: 0.9200\n",
      "Epoch 3/100\n",
      "100/100 [==============================] - 25s 250ms/step - loss: 0.2289 - acc: 0.9060 - val_loss: 0.2266 - val_acc: 0.9100\n",
      "Epoch 4/100\n",
      "100/100 [==============================] - 25s 249ms/step - loss: 0.2260 - acc: 0.9080 - val_loss: 0.2002 - val_acc: 0.9220\n",
      "Epoch 5/100\n",
      "100/100 [==============================] - 25s 249ms/step - loss: 0.2068 - acc: 0.9140 - val_loss: 0.2061 - val_acc: 0.9200\n",
      "Epoch 6/100\n",
      "100/100 [==============================] - 25s 250ms/step - loss: 0.1854 - acc: 0.9280 - val_loss: 0.2007 - val_acc: 0.9210\n",
      "Epoch 7/100\n",
      "100/100 [==============================] - 25s 250ms/step - loss: 0.1834 - acc: 0.9240 - val_loss: 0.1800 - val_acc: 0.9300\n",
      "Epoch 8/100\n",
      "100/100 [==============================] - 25s 250ms/step - loss: 0.1721 - acc: 0.9275 - val_loss: 0.1891 - val_acc: 0.9290\n",
      "Epoch 9/100\n",
      " 72/100 [====================>.........] - ETA: 4s - loss: 0.1616 - acc: 0.9354"
     ]
    }
   ],
   "source": [
    "model.compile(loss='binary_crossentropy',\n",
    "              optimizer=optimizers.RMSprop(lr=1e-5),\n",
    "              metrics=['acc'])\n",
    "\n",
    "history = model.fit_generator(\n",
    "      train_generator,\n",
    "      steps_per_epoch=100,\n",
    "      epochs=100,\n",
    "      validation_data=validation_generator,\n",
    "      validation_steps=50)"
   ]
  },
  {
   "cell_type": "code",
   "execution_count": null,
   "metadata": {},
   "outputs": [],
   "source": []
  }
 ],
 "metadata": {
  "kernelspec": {
   "display_name": "Python 3",
   "language": "python",
   "name": "python3"
  },
  "language_info": {
   "codemirror_mode": {
    "name": "ipython",
    "version": 3
   },
   "file_extension": ".py",
   "mimetype": "text/x-python",
   "name": "python",
   "nbconvert_exporter": "python",
   "pygments_lexer": "ipython3",
   "version": "3.5.2"
  }
 },
 "nbformat": 4,
 "nbformat_minor": 2
}
