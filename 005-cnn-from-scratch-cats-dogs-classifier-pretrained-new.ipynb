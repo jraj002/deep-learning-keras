{
 "cells": [
  {
   "cell_type": "code",
   "execution_count": 1,
   "metadata": {},
   "outputs": [
    {
     "name": "stdout",
     "output_type": "stream",
     "text": [
      "1.12.0\n",
      "2.1.6-tf\n"
     ]
    }
   ],
   "source": [
    "import tensorflow as tf\n",
    "import tensorflow.keras as keras\n",
    "\n",
    "from tensorflow.keras import models\n",
    "from tensorflow.keras import layers\n",
    "from tensorflow.keras import optimizers\n",
    "from tensorflow.keras import losses\n",
    "\n",
    "print(tf.__version__)\n",
    "print(tf.keras.__version__)"
   ]
  },
  {
   "cell_type": "code",
   "execution_count": 2,
   "metadata": {},
   "outputs": [],
   "source": [
    "from tensorflow.keras.applications import VGG16\n",
    "\n",
    "conv_base = VGG16(weights='imagenet', include_top=False, input_shape=(150, 150, 3))"
   ]
  },
  {
   "cell_type": "code",
   "execution_count": 3,
   "metadata": {},
   "outputs": [
    {
     "name": "stdout",
     "output_type": "stream",
     "text": [
      "_________________________________________________________________\n",
      "Layer (type)                 Output Shape              Param #   \n",
      "=================================================================\n",
      "input_1 (InputLayer)         (None, 150, 150, 3)       0         \n",
      "_________________________________________________________________\n",
      "block1_conv1 (Conv2D)        (None, 150, 150, 64)      1792      \n",
      "_________________________________________________________________\n",
      "block1_conv2 (Conv2D)        (None, 150, 150, 64)      36928     \n",
      "_________________________________________________________________\n",
      "block1_pool (MaxPooling2D)   (None, 75, 75, 64)        0         \n",
      "_________________________________________________________________\n",
      "block2_conv1 (Conv2D)        (None, 75, 75, 128)       73856     \n",
      "_________________________________________________________________\n",
      "block2_conv2 (Conv2D)        (None, 75, 75, 128)       147584    \n",
      "_________________________________________________________________\n",
      "block2_pool (MaxPooling2D)   (None, 37, 37, 128)       0         \n",
      "_________________________________________________________________\n",
      "block3_conv1 (Conv2D)        (None, 37, 37, 256)       295168    \n",
      "_________________________________________________________________\n",
      "block3_conv2 (Conv2D)        (None, 37, 37, 256)       590080    \n",
      "_________________________________________________________________\n",
      "block3_conv3 (Conv2D)        (None, 37, 37, 256)       590080    \n",
      "_________________________________________________________________\n",
      "block3_pool (MaxPooling2D)   (None, 18, 18, 256)       0         \n",
      "_________________________________________________________________\n",
      "block4_conv1 (Conv2D)        (None, 18, 18, 512)       1180160   \n",
      "_________________________________________________________________\n",
      "block4_conv2 (Conv2D)        (None, 18, 18, 512)       2359808   \n",
      "_________________________________________________________________\n",
      "block4_conv3 (Conv2D)        (None, 18, 18, 512)       2359808   \n",
      "_________________________________________________________________\n",
      "block4_pool (MaxPooling2D)   (None, 9, 9, 512)         0         \n",
      "_________________________________________________________________\n",
      "block5_conv1 (Conv2D)        (None, 9, 9, 512)         2359808   \n",
      "_________________________________________________________________\n",
      "block5_conv2 (Conv2D)        (None, 9, 9, 512)         2359808   \n",
      "_________________________________________________________________\n",
      "block5_conv3 (Conv2D)        (None, 9, 9, 512)         2359808   \n",
      "_________________________________________________________________\n",
      "block5_pool (MaxPooling2D)   (None, 4, 4, 512)         0         \n",
      "=================================================================\n",
      "Total params: 14,714,688\n",
      "Trainable params: 14,714,688\n",
      "Non-trainable params: 0\n",
      "_________________________________________________________________\n"
     ]
    }
   ],
   "source": [
    "conv_base.summary()"
   ]
  },
  {
   "cell_type": "code",
   "execution_count": 4,
   "metadata": {},
   "outputs": [
    {
     "data": {
      "text/plain": [
       "tensorflow.python.keras.engine.training.Model"
      ]
     },
     "execution_count": 4,
     "metadata": {},
     "output_type": "execute_result"
    }
   ],
   "source": [
    "type(conv_base)"
   ]
  },
  {
   "cell_type": "code",
   "execution_count": 5,
   "metadata": {},
   "outputs": [],
   "source": [
    "model = models.Sequential()\n",
    "model.add(conv_base)\n",
    "model.add(layers.Flatten())\n",
    "model.add(layers.Dense(256, activation='relu'))\n",
    "model.add(layers.Dense(1, activation='sigmoid'))"
   ]
  },
  {
   "cell_type": "code",
   "execution_count": 6,
   "metadata": {},
   "outputs": [
    {
     "name": "stdout",
     "output_type": "stream",
     "text": [
      "_________________________________________________________________\n",
      "Layer (type)                 Output Shape              Param #   \n",
      "=================================================================\n",
      "vgg16 (Model)                (None, 4, 4, 512)         14714688  \n",
      "_________________________________________________________________\n",
      "flatten (Flatten)            (None, 8192)              0         \n",
      "_________________________________________________________________\n",
      "dense (Dense)                (None, 256)               2097408   \n",
      "_________________________________________________________________\n",
      "dense_1 (Dense)              (None, 1)                 257       \n",
      "=================================================================\n",
      "Total params: 16,812,353\n",
      "Trainable params: 16,812,353\n",
      "Non-trainable params: 0\n",
      "_________________________________________________________________\n"
     ]
    }
   ],
   "source": [
    "model.summary()"
   ]
  },
  {
   "cell_type": "code",
   "execution_count": 8,
   "metadata": {},
   "outputs": [
    {
     "name": "stdout",
     "output_type": "stream",
     "text": [
      "# of trainable oparameters:  30\n"
     ]
    }
   ],
   "source": [
    "print(\"# of trainable oparameters: \", len(model.trainable_weights))"
   ]
  },
  {
   "cell_type": "code",
   "execution_count": 9,
   "metadata": {},
   "outputs": [],
   "source": [
    "conv_base.trainable = False"
   ]
  },
  {
   "cell_type": "code",
   "execution_count": 10,
   "metadata": {},
   "outputs": [
    {
     "name": "stdout",
     "output_type": "stream",
     "text": [
      "# of trainable oparameters:  4\n"
     ]
    }
   ],
   "source": [
    "print(\"# of trainable oparameters: \", len(model.trainable_weights))"
   ]
  },
  {
   "cell_type": "code",
   "execution_count": 11,
   "metadata": {},
   "outputs": [],
   "source": [
    "train_dir = '/notebooks/sharedfolder/work/data/cats_and_dogs_small/train'\n",
    "validation_dir = '/notebooks/sharedfolder/work/data/cats_and_dogs_small/validation'"
   ]
  },
  {
   "cell_type": "code",
   "execution_count": 13,
   "metadata": {},
   "outputs": [
    {
     "name": "stdout",
     "output_type": "stream",
     "text": [
      "Found 2000 images belonging to 2 classes.\n",
      "Found 1000 images belonging to 2 classes.\n",
      "Epoch 1/30\n"
     ]
    },
    {
     "name": "stderr",
     "output_type": "stream",
     "text": [
      "/usr/local/lib/python3.5/dist-packages/PIL/TiffImagePlugin.py:754: UserWarning: Possibly corrupt EXIF data.  Expecting to read 80000 bytes but only got 0. Skipping tag 64640\n",
      "  \" Skipping tag %s\" % (size, len(data), tag))\n",
      "/usr/local/lib/python3.5/dist-packages/PIL/TiffImagePlugin.py:754: UserWarning: Possibly corrupt EXIF data.  Expecting to read 6553600 bytes but only got 0. Skipping tag 49\n",
      "  \" Skipping tag %s\" % (size, len(data), tag))\n",
      "/usr/local/lib/python3.5/dist-packages/PIL/TiffImagePlugin.py:754: UserWarning: Possibly corrupt EXIF data.  Expecting to read 1050744 bytes but only got 4951. Skipping tag 51\n",
      "  \" Skipping tag %s\" % (size, len(data), tag))\n",
      "/usr/local/lib/python3.5/dist-packages/PIL/TiffImagePlugin.py:754: UserWarning: Possibly corrupt EXIF data.  Expecting to read 293339136 bytes but only got 0. Skipping tag 5\n",
      "  \" Skipping tag %s\" % (size, len(data), tag))\n",
      "/usr/local/lib/python3.5/dist-packages/PIL/TiffImagePlugin.py:754: UserWarning: Possibly corrupt EXIF data.  Expecting to read 293863424 bytes but only got 0. Skipping tag 5\n",
      "  \" Skipping tag %s\" % (size, len(data), tag))\n",
      "/usr/local/lib/python3.5/dist-packages/PIL/TiffImagePlugin.py:754: UserWarning: Possibly corrupt EXIF data.  Expecting to read 3368026112 bytes but only got 0. Skipping tag 7\n",
      "  \" Skipping tag %s\" % (size, len(data), tag))\n",
      "/usr/local/lib/python3.5/dist-packages/PIL/TiffImagePlugin.py:754: UserWarning: Possibly corrupt EXIF data.  Expecting to read 134479872 bytes but only got 0. Skipping tag 7\n",
      "  \" Skipping tag %s\" % (size, len(data), tag))\n",
      "/usr/local/lib/python3.5/dist-packages/PIL/TiffImagePlugin.py:754: UserWarning: Possibly corrupt EXIF data.  Expecting to read 295698432 bytes but only got 0. Skipping tag 10\n",
      "  \" Skipping tag %s\" % (size, len(data), tag))\n",
      "/usr/local/lib/python3.5/dist-packages/PIL/TiffImagePlugin.py:754: UserWarning: Possibly corrupt EXIF data.  Expecting to read 296222720 bytes but only got 0. Skipping tag 5\n",
      "  \" Skipping tag %s\" % (size, len(data), tag))\n",
      "/usr/local/lib/python3.5/dist-packages/PIL/TiffImagePlugin.py:754: UserWarning: Possibly corrupt EXIF data.  Expecting to read 3300917248 bytes but only got 0. Skipping tag 7\n",
      "  \" Skipping tag %s\" % (size, len(data), tag))\n",
      "/usr/local/lib/python3.5/dist-packages/PIL/TiffImagePlugin.py:754: UserWarning: Possibly corrupt EXIF data.  Expecting to read 65536 bytes but only got 0. Skipping tag 3\n",
      "  \" Skipping tag %s\" % (size, len(data), tag))\n",
      "/usr/local/lib/python3.5/dist-packages/PIL/TiffImagePlugin.py:754: UserWarning: Possibly corrupt EXIF data.  Expecting to read 14745600 bytes but only got 0. Skipping tag 4\n",
      "  \" Skipping tag %s\" % (size, len(data), tag))\n",
      "/usr/local/lib/python3.5/dist-packages/PIL/TiffImagePlugin.py:754: UserWarning: Possibly corrupt EXIF data.  Expecting to read 25624576 bytes but only got 0. Skipping tag 4\n",
      "  \" Skipping tag %s\" % (size, len(data), tag))\n",
      "/usr/local/lib/python3.5/dist-packages/PIL/TiffImagePlugin.py:754: UserWarning: Possibly corrupt EXIF data.  Expecting to read 317718528 bytes but only got 4956. Skipping tag 4\n",
      "  \" Skipping tag %s\" % (size, len(data), tag))\n",
      "/usr/local/lib/python3.5/dist-packages/PIL/TiffImagePlugin.py:754: UserWarning: Possibly corrupt EXIF data.  Expecting to read 131073 bytes but only got 4952. Skipping tag 0\n",
      "  \" Skipping tag %s\" % (size, len(data), tag))\n",
      "/usr/local/lib/python3.5/dist-packages/PIL/TiffImagePlugin.py:754: UserWarning: Possibly corrupt EXIF data.  Expecting to read 393216 bytes but only got 0. Skipping tag 3\n",
      "  \" Skipping tag %s\" % (size, len(data), tag))\n",
      "/usr/local/lib/python3.5/dist-packages/PIL/TiffImagePlugin.py:754: UserWarning: Possibly corrupt EXIF data.  Expecting to read 287178752 bytes but only got 0. Skipping tag 5\n",
      "  \" Skipping tag %s\" % (size, len(data), tag))\n",
      "/usr/local/lib/python3.5/dist-packages/PIL/TiffImagePlugin.py:754: UserWarning: Possibly corrupt EXIF data.  Expecting to read 287703040 bytes but only got 0. Skipping tag 5\n",
      "  \" Skipping tag %s\" % (size, len(data), tag))\n",
      "/usr/local/lib/python3.5/dist-packages/PIL/TiffImagePlugin.py:754: UserWarning: Possibly corrupt EXIF data.  Expecting to read 131072 bytes but only got 0. Skipping tag 3\n",
      "  \" Skipping tag %s\" % (size, len(data), tag))\n",
      "/usr/local/lib/python3.5/dist-packages/PIL/TiffImagePlugin.py:754: UserWarning: Possibly corrupt EXIF data.  Expecting to read 524288 bytes but only got 0. Skipping tag 4\n",
      "  \" Skipping tag %s\" % (size, len(data), tag))\n",
      "/usr/local/lib/python3.5/dist-packages/PIL/TiffImagePlugin.py:754: UserWarning: Possibly corrupt EXIF data.  Expecting to read 286654464 bytes but only got 4956. Skipping tag 4\n",
      "  \" Skipping tag %s\" % (size, len(data), tag))\n",
      "/usr/local/lib/python3.5/dist-packages/PIL/TiffImagePlugin.py:771: UserWarning: Corrupt EXIF data.  Expecting to read 12 bytes but only got 2. \n",
      "  warnings.warn(str(msg))\n",
      "/usr/local/lib/python3.5/dist-packages/PIL/TiffImagePlugin.py:754: UserWarning: Possibly corrupt EXIF data.  Expecting to read 404094976 bytes but only got 0. Skipping tag 5\n",
      "  \" Skipping tag %s\" % (size, len(data), tag))\n",
      "/usr/local/lib/python3.5/dist-packages/PIL/TiffImagePlugin.py:754: UserWarning: Possibly corrupt EXIF data.  Expecting to read 404619264 bytes but only got 0. Skipping tag 5\n",
      "  \" Skipping tag %s\" % (size, len(data), tag))\n",
      "/usr/local/lib/python3.5/dist-packages/PIL/TiffImagePlugin.py:754: UserWarning: Possibly corrupt EXIF data.  Expecting to read 425459712 bytes but only got 0. Skipping tag 4\n",
      "  \" Skipping tag %s\" % (size, len(data), tag))\n",
      "/usr/local/lib/python3.5/dist-packages/PIL/TiffImagePlugin.py:754: UserWarning: Possibly corrupt EXIF data.  Expecting to read 1385474 bytes but only got 6833. Skipping tag 513\n",
      "  \" Skipping tag %s\" % (size, len(data), tag))\n",
      "/usr/local/lib/python3.5/dist-packages/PIL/TiffImagePlugin.py:754: UserWarning: Possibly corrupt EXIF data.  Expecting to read 3846701056 bytes but only got 0. Skipping tag 2\n",
      "  \" Skipping tag %s\" % (size, len(data), tag))\n",
      "/usr/local/lib/python3.5/dist-packages/PIL/TiffImagePlugin.py:754: UserWarning: Possibly corrupt EXIF data.  Expecting to read 196867 bytes but only got 6833. Skipping tag 0\n",
      "  \" Skipping tag %s\" % (size, len(data), tag))\n",
      "/usr/local/lib/python3.5/dist-packages/PIL/TiffImagePlugin.py:771: UserWarning: Corrupt EXIF data.  Expecting to read 12 bytes but only got 8. \n",
      "  warnings.warn(str(msg))\n"
     ]
    },
    {
     "name": "stdout",
     "output_type": "stream",
     "text": [
      " - 34s - loss: 0.5711 - acc: 0.7070 - val_loss: 0.4489 - val_acc: 0.8220\n",
      "Epoch 2/30\n",
      " - 26s - loss: 0.4825 - acc: 0.7795 - val_loss: 0.3638 - val_acc: 0.8620\n",
      "Epoch 3/30\n",
      " - 25s - loss: 0.4349 - acc: 0.8090 - val_loss: 0.3270 - val_acc: 0.8720\n",
      "Epoch 4/30\n",
      " - 26s - loss: 0.4069 - acc: 0.8125 - val_loss: 0.3180 - val_acc: 0.8690\n",
      "Epoch 5/30\n",
      " - 25s - loss: 0.3713 - acc: 0.8450 - val_loss: 0.2899 - val_acc: 0.8800\n",
      "Epoch 6/30\n",
      " - 26s - loss: 0.3620 - acc: 0.8530 - val_loss: 0.2963 - val_acc: 0.8800\n",
      "Epoch 7/30\n",
      " - 25s - loss: 0.3657 - acc: 0.8440 - val_loss: 0.2736 - val_acc: 0.8880\n",
      "Epoch 8/30\n",
      " - 25s - loss: 0.3487 - acc: 0.8455 - val_loss: 0.2651 - val_acc: 0.8950\n",
      "Epoch 9/30\n",
      " - 26s - loss: 0.3400 - acc: 0.8580 - val_loss: 0.2661 - val_acc: 0.8940\n",
      "Epoch 10/30\n",
      " - 25s - loss: 0.3196 - acc: 0.8555 - val_loss: 0.2611 - val_acc: 0.8940\n",
      "Epoch 11/30\n",
      " - 25s - loss: 0.3284 - acc: 0.8540 - val_loss: 0.2558 - val_acc: 0.8930\n",
      "Epoch 12/30\n",
      " - 26s - loss: 0.3196 - acc: 0.8660 - val_loss: 0.2573 - val_acc: 0.8950\n",
      "Epoch 13/30\n",
      " - 26s - loss: 0.3078 - acc: 0.8590 - val_loss: 0.2549 - val_acc: 0.8960\n",
      "Epoch 14/30\n",
      " - 26s - loss: 0.3135 - acc: 0.8610 - val_loss: 0.2635 - val_acc: 0.8930\n",
      "Epoch 15/30\n",
      " - 25s - loss: 0.3142 - acc: 0.8590 - val_loss: 0.2589 - val_acc: 0.8880\n",
      "Epoch 16/30\n",
      " - 25s - loss: 0.2976 - acc: 0.8745 - val_loss: 0.2475 - val_acc: 0.9020\n",
      "Epoch 17/30\n",
      " - 25s - loss: 0.3096 - acc: 0.8715 - val_loss: 0.2464 - val_acc: 0.8950\n",
      "Epoch 18/30\n",
      " - 25s - loss: 0.3182 - acc: 0.8540 - val_loss: 0.2446 - val_acc: 0.8970\n",
      "Epoch 19/30\n",
      " - 25s - loss: 0.3015 - acc: 0.8690 - val_loss: 0.2431 - val_acc: 0.9010\n",
      "Epoch 20/30\n",
      " - 25s - loss: 0.2895 - acc: 0.8775 - val_loss: 0.2439 - val_acc: 0.9010\n",
      "Epoch 21/30\n",
      " - 25s - loss: 0.2916 - acc: 0.8820 - val_loss: 0.2534 - val_acc: 0.8910\n",
      "Epoch 22/30\n",
      " - 25s - loss: 0.2868 - acc: 0.8790 - val_loss: 0.2487 - val_acc: 0.8990\n",
      "Epoch 23/30\n",
      " - 25s - loss: 0.2913 - acc: 0.8720 - val_loss: 0.2404 - val_acc: 0.8970\n",
      "Epoch 24/30\n",
      " - 26s - loss: 0.2819 - acc: 0.8815 - val_loss: 0.2398 - val_acc: 0.9000\n",
      "Epoch 25/30\n",
      " - 25s - loss: 0.2886 - acc: 0.8750 - val_loss: 0.2378 - val_acc: 0.8990\n",
      "Epoch 26/30\n",
      " - 25s - loss: 0.2916 - acc: 0.8705 - val_loss: 0.2579 - val_acc: 0.8940\n",
      "Epoch 27/30\n",
      " - 26s - loss: 0.2848 - acc: 0.8820 - val_loss: 0.2358 - val_acc: 0.8920\n",
      "Epoch 28/30\n",
      " - 25s - loss: 0.2729 - acc: 0.8830 - val_loss: 0.2367 - val_acc: 0.8970\n",
      "Epoch 29/30\n",
      " - 25s - loss: 0.2724 - acc: 0.8810 - val_loss: 0.2398 - val_acc: 0.9020\n",
      "Epoch 30/30\n",
      " - 25s - loss: 0.2673 - acc: 0.8845 - val_loss: 0.2473 - val_acc: 0.8970\n"
     ]
    }
   ],
   "source": [
    "from tensorflow.keras.preprocessing.image import ImageDataGenerator\n",
    "\n",
    "train_datagen = ImageDataGenerator(\n",
    "      rescale=1./255,\n",
    "      rotation_range=40,\n",
    "      width_shift_range=0.2,\n",
    "      height_shift_range=0.2,\n",
    "      shear_range=0.2,\n",
    "      zoom_range=0.2,\n",
    "      horizontal_flip=True,\n",
    "      fill_mode='nearest')\n",
    "\n",
    "# Note that the validation data should not be augmented!\n",
    "test_datagen = ImageDataGenerator(rescale=1./255)\n",
    "\n",
    "train_generator = train_datagen.flow_from_directory(\n",
    "        # This is the target directory\n",
    "        train_dir,\n",
    "        # All images will be resized to 150x150\n",
    "        target_size=(150, 150),\n",
    "        batch_size=20,\n",
    "        # Since we use binary_crossentropy loss, we need binary labels\n",
    "        class_mode='binary')\n",
    "\n",
    "validation_generator = test_datagen.flow_from_directory(\n",
    "        validation_dir,\n",
    "        target_size=(150, 150),\n",
    "        batch_size=20,\n",
    "        class_mode='binary')\n",
    "\n",
    "model.compile(loss='binary_crossentropy',\n",
    "              optimizer=optimizers.RMSprop(lr=2e-5),\n",
    "              metrics=['acc'])\n",
    "\n",
    "history = model.fit_generator(\n",
    "      train_generator,\n",
    "      steps_per_epoch=100,\n",
    "      epochs=30,\n",
    "      validation_data=validation_generator,\n",
    "      validation_steps=50,\n",
    "      verbose=2)"
   ]
  },
  {
   "cell_type": "code",
   "execution_count": 14,
   "metadata": {},
   "outputs": [],
   "source": [
    "model.save('cats_and_dogs_small_3.h5')"
   ]
  },
  {
   "cell_type": "code",
   "execution_count": 17,
   "metadata": {},
   "outputs": [
    {
     "data": {
      "image/png": "[encoded data removed]",
      "text/plain": [
       "<Figure size 432x288 with 1 Axes>"
      ]
     },
     "metadata": {
      "needs_background": "light"
     },
     "output_type": "display_data"
    },
    {
     "data": {
      "image/png": "[encoded data removed]",
      "text/plain": [
       "<Figure size 432x288 with 1 Axes>"
      ]
     },
     "metadata": {
      "needs_background": "light"
     },
     "output_type": "display_data"
    }
   ],
   "source": [
    "import matplotlib.pyplot as plt\n",
    "\n",
    "acc = history.history['acc']\n",
    "val_acc = history.history['val_acc']\n",
    "loss = history.history['loss']\n",
    "val_loss = history.history['val_loss']\n",
    "\n",
    "epochs = range(len(acc))\n",
    "\n",
    "plt.plot(epochs, acc, 'bo', label='Training acc')\n",
    "plt.plot(epochs, val_acc, 'b', label='Validation acc')\n",
    "plt.title('Training and validation accuracy')\n",
    "plt.legend()\n",
    "\n",
    "plt.figure()\n",
    "\n",
    "plt.plot(epochs, loss, 'bo', label='Training loss')\n",
    "plt.plot(epochs, val_loss, 'b', label='Validation loss')\n",
    "plt.title('Training and validation loss')\n",
    "plt.legend()\n",
    "\n",
    "plt.show()"
   ]
  },
  {
   "cell_type": "code",
   "execution_count": 18,
   "metadata": {},
   "outputs": [
    {
     "name": "stdout",
     "output_type": "stream",
     "text": [
      "_________________________________________________________________\n",
      "Layer (type)                 Output Shape              Param #   \n",
      "=================================================================\n",
      "input_1 (InputLayer)         (None, 150, 150, 3)       0         \n",
      "_________________________________________________________________\n",
      "block1_conv1 (Conv2D)        (None, 150, 150, 64)      1792      \n",
      "_________________________________________________________________\n",
      "block1_conv2 (Conv2D)        (None, 150, 150, 64)      36928     \n",
      "_________________________________________________________________\n",
      "block1_pool (MaxPooling2D)   (None, 75, 75, 64)        0         \n",
      "_________________________________________________________________\n",
      "block2_conv1 (Conv2D)        (None, 75, 75, 128)       73856     \n",
      "_________________________________________________________________\n",
      "block2_conv2 (Conv2D)        (None, 75, 75, 128)       147584    \n",
      "_________________________________________________________________\n",
      "block2_pool (MaxPooling2D)   (None, 37, 37, 128)       0         \n",
      "_________________________________________________________________\n",
      "block3_conv1 (Conv2D)        (None, 37, 37, 256)       295168    \n",
      "_________________________________________________________________\n",
      "block3_conv2 (Conv2D)        (None, 37, 37, 256)       590080    \n",
      "_________________________________________________________________\n",
      "block3_conv3 (Conv2D)        (None, 37, 37, 256)       590080    \n",
      "_________________________________________________________________\n",
      "block3_pool (MaxPooling2D)   (None, 18, 18, 256)       0         \n",
      "_________________________________________________________________\n",
      "block4_conv1 (Conv2D)        (None, 18, 18, 512)       1180160   \n",
      "_________________________________________________________________\n",
      "block4_conv2 (Conv2D)        (None, 18, 18, 512)       2359808   \n",
      "_________________________________________________________________\n",
      "block4_conv3 (Conv2D)        (None, 18, 18, 512)       2359808   \n",
      "_________________________________________________________________\n",
      "block4_pool (MaxPooling2D)   (None, 9, 9, 512)         0         \n",
      "_________________________________________________________________\n",
      "block5_conv1 (Conv2D)        (None, 9, 9, 512)         2359808   \n",
      "_________________________________________________________________\n",
      "block5_conv2 (Conv2D)        (None, 9, 9, 512)         2359808   \n",
      "_________________________________________________________________\n",
      "block5_conv3 (Conv2D)        (None, 9, 9, 512)         2359808   \n",
      "_________________________________________________________________\n",
      "block5_pool (MaxPooling2D)   (None, 4, 4, 512)         0         \n",
      "=================================================================\n",
      "Total params: 14,714,688\n",
      "Trainable params: 0\n",
      "Non-trainable params: 14,714,688\n",
      "_________________________________________________________________\n"
     ]
    }
   ],
   "source": [
    "conv_base.summary()"
   ]
  },
  {
   "cell_type": "code",
   "execution_count": 19,
   "metadata": {},
   "outputs": [],
   "source": [
    "conv_base.trainable = True\n",
    "\n",
    "set_trainable = False\n",
    "for layer in conv_base.layers:\n",
    "    if layer.name == 'block5_conv1':\n",
    "        set_trainable = True\n",
    "    if set_trainable:\n",
    "        layer.trainable = True\n",
    "    else:\n",
    "        layer.trainable = False"
   ]
  },
  {
   "cell_type": "code",
   "execution_count": 20,
   "metadata": {},
   "outputs": [
    {
     "name": "stdout",
     "output_type": "stream",
     "text": [
      "Epoch 1/100\n",
      " 98/100 [============================>.] - ETA: 0s - loss: 0.2822 - acc: 0.8806"
     ]
    },
    {
     "name": "stderr",
     "output_type": "stream",
     "text": [
      "/usr/local/lib/python3.5/dist-packages/PIL/TiffImagePlugin.py:754: UserWarning: Possibly corrupt EXIF data.  Expecting to read 80000 bytes but only got 0. Skipping tag 64640\n",
      "  \" Skipping tag %s\" % (size, len(data), tag))\n",
      "/usr/local/lib/python3.5/dist-packages/PIL/TiffImagePlugin.py:754: UserWarning: Possibly corrupt EXIF data.  Expecting to read 6553600 bytes but only got 0. Skipping tag 49\n",
      "  \" Skipping tag %s\" % (size, len(data), tag))\n",
      "/usr/local/lib/python3.5/dist-packages/PIL/TiffImagePlugin.py:754: UserWarning: Possibly corrupt EXIF data.  Expecting to read 1050744 bytes but only got 4951. Skipping tag 51\n",
      "  \" Skipping tag %s\" % (size, len(data), tag))\n",
      "/usr/local/lib/python3.5/dist-packages/PIL/TiffImagePlugin.py:754: UserWarning: Possibly corrupt EXIF data.  Expecting to read 293339136 bytes but only got 0. Skipping tag 5\n",
      "  \" Skipping tag %s\" % (size, len(data), tag))\n",
      "/usr/local/lib/python3.5/dist-packages/PIL/TiffImagePlugin.py:754: UserWarning: Possibly corrupt EXIF data.  Expecting to read 293863424 bytes but only got 0. Skipping tag 5\n",
      "  \" Skipping tag %s\" % (size, len(data), tag))\n",
      "/usr/local/lib/python3.5/dist-packages/PIL/TiffImagePlugin.py:754: UserWarning: Possibly corrupt EXIF data.  Expecting to read 3368026112 bytes but only got 0. Skipping tag 7\n",
      "  \" Skipping tag %s\" % (size, len(data), tag))\n",
      "/usr/local/lib/python3.5/dist-packages/PIL/TiffImagePlugin.py:754: UserWarning: Possibly corrupt EXIF data.  Expecting to read 134479872 bytes but only got 0. Skipping tag 7\n",
      "  \" Skipping tag %s\" % (size, len(data), tag))\n",
      "/usr/local/lib/python3.5/dist-packages/PIL/TiffImagePlugin.py:754: UserWarning: Possibly corrupt EXIF data.  Expecting to read 295698432 bytes but only got 0. Skipping tag 10\n",
      "  \" Skipping tag %s\" % (size, len(data), tag))\n",
      "/usr/local/lib/python3.5/dist-packages/PIL/TiffImagePlugin.py:754: UserWarning: Possibly corrupt EXIF data.  Expecting to read 296222720 bytes but only got 0. Skipping tag 5\n",
      "  \" Skipping tag %s\" % (size, len(data), tag))\n",
      "/usr/local/lib/python3.5/dist-packages/PIL/TiffImagePlugin.py:754: UserWarning: Possibly corrupt EXIF data.  Expecting to read 3300917248 bytes but only got 0. Skipping tag 7\n",
      "  \" Skipping tag %s\" % (size, len(data), tag))\n",
      "/usr/local/lib/python3.5/dist-packages/PIL/TiffImagePlugin.py:754: UserWarning: Possibly corrupt EXIF data.  Expecting to read 65536 bytes but only got 0. Skipping tag 3\n",
      "  \" Skipping tag %s\" % (size, len(data), tag))\n",
      "/usr/local/lib/python3.5/dist-packages/PIL/TiffImagePlugin.py:754: UserWarning: Possibly corrupt EXIF data.  Expecting to read 14745600 bytes but only got 0. Skipping tag 4\n",
      "  \" Skipping tag %s\" % (size, len(data), tag))\n",
      "/usr/local/lib/python3.5/dist-packages/PIL/TiffImagePlugin.py:754: UserWarning: Possibly corrupt EXIF data.  Expecting to read 25624576 bytes but only got 0. Skipping tag 4\n",
      "  \" Skipping tag %s\" % (size, len(data), tag))\n",
      "/usr/local/lib/python3.5/dist-packages/PIL/TiffImagePlugin.py:754: UserWarning: Possibly corrupt EXIF data.  Expecting to read 317718528 bytes but only got 4956. Skipping tag 4\n",
      "  \" Skipping tag %s\" % (size, len(data), tag))\n",
      "/usr/local/lib/python3.5/dist-packages/PIL/TiffImagePlugin.py:754: UserWarning: Possibly corrupt EXIF data.  Expecting to read 131073 bytes but only got 4952. Skipping tag 0\n",
      "  \" Skipping tag %s\" % (size, len(data), tag))\n",
      "/usr/local/lib/python3.5/dist-packages/PIL/TiffImagePlugin.py:754: UserWarning: Possibly corrupt EXIF data.  Expecting to read 393216 bytes but only got 0. Skipping tag 3\n",
      "  \" Skipping tag %s\" % (size, len(data), tag))\n",
      "/usr/local/lib/python3.5/dist-packages/PIL/TiffImagePlugin.py:754: UserWarning: Possibly corrupt EXIF data.  Expecting to read 287178752 bytes but only got 0. Skipping tag 5\n",
      "  \" Skipping tag %s\" % (size, len(data), tag))\n",
      "/usr/local/lib/python3.5/dist-packages/PIL/TiffImagePlugin.py:754: UserWarning: Possibly corrupt EXIF data.  Expecting to read 287703040 bytes but only got 0. Skipping tag 5\n",
      "  \" Skipping tag %s\" % (size, len(data), tag))\n",
      "/usr/local/lib/python3.5/dist-packages/PIL/TiffImagePlugin.py:754: UserWarning: Possibly corrupt EXIF data.  Expecting to read 131072 bytes but only got 0. Skipping tag 3\n",
      "  \" Skipping tag %s\" % (size, len(data), tag))\n",
      "/usr/local/lib/python3.5/dist-packages/PIL/TiffImagePlugin.py:754: UserWarning: Possibly corrupt EXIF data.  Expecting to read 524288 bytes but only got 0. Skipping tag 4\n",
      "  \" Skipping tag %s\" % (size, len(data), tag))\n",
      "/usr/local/lib/python3.5/dist-packages/PIL/TiffImagePlugin.py:754: UserWarning: Possibly corrupt EXIF data.  Expecting to read 286654464 bytes but only got 4956. Skipping tag 4\n",
      "  \" Skipping tag %s\" % (size, len(data), tag))\n",
      "/usr/local/lib/python3.5/dist-packages/PIL/TiffImagePlugin.py:771: UserWarning: Corrupt EXIF data.  Expecting to read 12 bytes but only got 2. \n",
      "  warnings.warn(str(msg))\n"
     ]
    },
    {
     "name": "stdout",
     "output_type": "stream",
     "text": [
      "\b\b\b\b\b\b\b\b\b\b\b\b\b\b\b\b\b\b\b\b\b\b\b\b\b\b\b\b\b\b\b\b\b\b\b\b\b\b\b\b\b\b\b\b\b\b\b\b\b\b\b\b\b\b\b\b\b\b\b\b\b\b\b\b\b\b\b\b\b\b\b\b\b\b\b\b\b\b\b\r",
      " 99/100 [============================>.] - ETA: 0s - loss: 0.2843 - acc: 0.8793"
     ]
    },
    {
     "name": "stderr",
     "output_type": "stream",
     "text": [
      "/usr/local/lib/python3.5/dist-packages/PIL/TiffImagePlugin.py:754: UserWarning: Possibly corrupt EXIF data.  Expecting to read 404094976 bytes but only got 0. Skipping tag 5\n",
      "  \" Skipping tag %s\" % (size, len(data), tag))\n",
      "/usr/local/lib/python3.5/dist-packages/PIL/TiffImagePlugin.py:754: UserWarning: Possibly corrupt EXIF data.  Expecting to read 404619264 bytes but only got 0. Skipping tag 5\n",
      "  \" Skipping tag %s\" % (size, len(data), tag))\n",
      "/usr/local/lib/python3.5/dist-packages/PIL/TiffImagePlugin.py:754: UserWarning: Possibly corrupt EXIF data.  Expecting to read 425459712 bytes but only got 0. Skipping tag 4\n",
      "  \" Skipping tag %s\" % (size, len(data), tag))\n",
      "/usr/local/lib/python3.5/dist-packages/PIL/TiffImagePlugin.py:754: UserWarning: Possibly corrupt EXIF data.  Expecting to read 1385474 bytes but only got 6833. Skipping tag 513\n",
      "  \" Skipping tag %s\" % (size, len(data), tag))\n",
      "/usr/local/lib/python3.5/dist-packages/PIL/TiffImagePlugin.py:754: UserWarning: Possibly corrupt EXIF data.  Expecting to read 3846701056 bytes but only got 0. Skipping tag 2\n",
      "  \" Skipping tag %s\" % (size, len(data), tag))\n",
      "/usr/local/lib/python3.5/dist-packages/PIL/TiffImagePlugin.py:754: UserWarning: Possibly corrupt EXIF data.  Expecting to read 196867 bytes but only got 6833. Skipping tag 0\n",
      "  \" Skipping tag %s\" % (size, len(data), tag))\n",
      "/usr/local/lib/python3.5/dist-packages/PIL/TiffImagePlugin.py:771: UserWarning: Corrupt EXIF data.  Expecting to read 12 bytes but only got 8. \n",
      "  warnings.warn(str(msg))\n"
     ]
    },
    {
     "name": "stdout",
     "output_type": "stream",
     "text": [
      "100/100 [==============================] - 28s 282ms/step - loss: 0.2849 - acc: 0.8790 - val_loss: 0.3135 - val_acc: 0.8720\n",
      "Epoch 2/100\n",
      "100/100 [==============================] - 27s 266ms/step - loss: 0.2582 - acc: 0.8885 - val_loss: 0.2405 - val_acc: 0.9050\n",
      "Epoch 3/100\n",
      "100/100 [==============================] - 25s 254ms/step - loss: 0.2379 - acc: 0.9015 - val_loss: 0.2333 - val_acc: 0.9070\n",
      "Epoch 4/100\n",
      "100/100 [==============================] - 26s 264ms/step - loss: 0.2236 - acc: 0.9050 - val_loss: 0.2125 - val_acc: 0.9140\n",
      "Epoch 5/100\n",
      "100/100 [==============================] - 26s 255ms/step - loss: 0.2016 - acc: 0.9125 - val_loss: 0.2125 - val_acc: 0.9120\n",
      "Epoch 6/100\n",
      "100/100 [==============================] - 25s 254ms/step - loss: 0.1916 - acc: 0.9200 - val_loss: 0.2258 - val_acc: 0.9080\n",
      "Epoch 7/100\n",
      "100/100 [==============================] - 26s 257ms/step - loss: 0.1715 - acc: 0.9260 - val_loss: 0.2694 - val_acc: 0.9050\n",
      "Epoch 8/100\n",
      "100/100 [==============================] - 25s 254ms/step - loss: 0.1690 - acc: 0.9295 - val_loss: 0.2024 - val_acc: 0.9220\n",
      "Epoch 9/100\n",
      "100/100 [==============================] - 26s 256ms/step - loss: 0.1525 - acc: 0.9440 - val_loss: 0.1877 - val_acc: 0.9240\n",
      "Epoch 10/100\n",
      "100/100 [==============================] - 26s 264ms/step - loss: 0.1576 - acc: 0.9350 - val_loss: 0.1854 - val_acc: 0.9320\n",
      "Epoch 11/100\n",
      "100/100 [==============================] - 26s 256ms/step - loss: 0.1498 - acc: 0.9360 - val_loss: 0.1930 - val_acc: 0.9290\n",
      "Epoch 12/100\n",
      "100/100 [==============================] - 26s 255ms/step - loss: 0.1351 - acc: 0.9495 - val_loss: 0.1883 - val_acc: 0.9260\n",
      "Epoch 13/100\n",
      "100/100 [==============================] - 26s 255ms/step - loss: 0.1490 - acc: 0.9390 - val_loss: 0.1912 - val_acc: 0.9340\n",
      "Epoch 14/100\n",
      "100/100 [==============================] - 26s 261ms/step - loss: 0.1057 - acc: 0.9565 - val_loss: 0.1856 - val_acc: 0.9300\n",
      "Epoch 15/100\n",
      "100/100 [==============================] - 26s 256ms/step - loss: 0.1258 - acc: 0.9530 - val_loss: 0.2083 - val_acc: 0.9270\n",
      "Epoch 16/100\n",
      "100/100 [==============================] - 27s 266ms/step - loss: 0.1108 - acc: 0.9560 - val_loss: 0.1675 - val_acc: 0.9370\n",
      "Epoch 17/100\n",
      "100/100 [==============================] - 25s 254ms/step - loss: 0.1060 - acc: 0.9595 - val_loss: 0.1788 - val_acc: 0.9350\n",
      "Epoch 18/100\n",
      "100/100 [==============================] - 26s 264ms/step - loss: 0.0983 - acc: 0.9605 - val_loss: 0.1935 - val_acc: 0.9280\n",
      "Epoch 19/100\n",
      "100/100 [==============================] - 25s 254ms/step - loss: 0.1061 - acc: 0.9600 - val_loss: 0.1796 - val_acc: 0.9310\n",
      "Epoch 20/100\n",
      "100/100 [==============================] - 26s 256ms/step - loss: 0.0924 - acc: 0.9630 - val_loss: 0.1671 - val_acc: 0.9350\n",
      "Epoch 21/100\n",
      "100/100 [==============================] - 26s 256ms/step - loss: 0.0858 - acc: 0.9665 - val_loss: 0.2179 - val_acc: 0.9240\n",
      "Epoch 22/100\n",
      "100/100 [==============================] - 25s 255ms/step - loss: 0.0875 - acc: 0.9670 - val_loss: 0.1841 - val_acc: 0.9340\n",
      "Epoch 23/100\n",
      "100/100 [==============================] - 27s 266ms/step - loss: 0.0866 - acc: 0.9645 - val_loss: 0.1844 - val_acc: 0.9340\n",
      "Epoch 24/100\n",
      "100/100 [==============================] - 25s 255ms/step - loss: 0.0726 - acc: 0.9750 - val_loss: 0.2148 - val_acc: 0.9280\n",
      "Epoch 25/100\n",
      "100/100 [==============================] - 25s 254ms/step - loss: 0.0741 - acc: 0.9730 - val_loss: 0.2060 - val_acc: 0.9250\n",
      "Epoch 26/100\n",
      "100/100 [==============================] - 26s 256ms/step - loss: 0.0813 - acc: 0.9730 - val_loss: 0.2429 - val_acc: 0.9250\n",
      "Epoch 27/100\n",
      "100/100 [==============================] - 26s 258ms/step - loss: 0.0693 - acc: 0.9730 - val_loss: 0.2288 - val_acc: 0.9300\n",
      "Epoch 28/100\n",
      "100/100 [==============================] - 26s 260ms/step - loss: 0.0711 - acc: 0.9760 - val_loss: 0.2431 - val_acc: 0.9260\n",
      "Epoch 29/100\n",
      "100/100 [==============================] - 26s 260ms/step - loss: 0.0654 - acc: 0.9745 - val_loss: 0.1927 - val_acc: 0.9370\n",
      "Epoch 30/100\n",
      "100/100 [==============================] - 26s 257ms/step - loss: 0.0619 - acc: 0.9740 - val_loss: 0.2069 - val_acc: 0.9350\n",
      "Epoch 31/100\n",
      "100/100 [==============================] - 26s 255ms/step - loss: 0.0620 - acc: 0.9770 - val_loss: 0.1945 - val_acc: 0.9360\n",
      "Epoch 32/100\n",
      "100/100 [==============================] - 26s 257ms/step - loss: 0.0559 - acc: 0.9770 - val_loss: 0.1932 - val_acc: 0.9340\n",
      "Epoch 33/100\n",
      "100/100 [==============================] - 26s 256ms/step - loss: 0.0678 - acc: 0.9720 - val_loss: 0.1858 - val_acc: 0.9370\n",
      "Epoch 34/100\n",
      "100/100 [==============================] - 27s 267ms/step - loss: 0.0581 - acc: 0.9750 - val_loss: 0.1912 - val_acc: 0.9380\n",
      "Epoch 35/100\n",
      "100/100 [==============================] - 26s 256ms/step - loss: 0.0508 - acc: 0.9840 - val_loss: 0.1969 - val_acc: 0.9310\n",
      "Epoch 36/100\n",
      "100/100 [==============================] - 26s 259ms/step - loss: 0.0717 - acc: 0.9730 - val_loss: 0.1928 - val_acc: 0.9290\n",
      "Epoch 37/100\n",
      "100/100 [==============================] - 26s 257ms/step - loss: 0.0546 - acc: 0.9805 - val_loss: 0.1932 - val_acc: 0.9380\n",
      "Epoch 38/100\n",
      "100/100 [==============================] - 25s 254ms/step - loss: 0.0515 - acc: 0.9805 - val_loss: 0.2113 - val_acc: 0.9340\n",
      "Epoch 39/100\n",
      "100/100 [==============================] - 26s 262ms/step - loss: 0.0570 - acc: 0.9795 - val_loss: 0.2035 - val_acc: 0.9330\n",
      "Epoch 40/100\n",
      "100/100 [==============================] - 26s 257ms/step - loss: 0.0502 - acc: 0.9815 - val_loss: 0.1964 - val_acc: 0.9320\n",
      "Epoch 41/100\n",
      "100/100 [==============================] - 26s 263ms/step - loss: 0.0585 - acc: 0.9805 - val_loss: 0.3071 - val_acc: 0.9200\n",
      "Epoch 42/100\n",
      "100/100 [==============================] - 26s 263ms/step - loss: 0.0455 - acc: 0.9860 - val_loss: 0.2307 - val_acc: 0.9340\n",
      "Epoch 43/100\n",
      "100/100 [==============================] - 26s 261ms/step - loss: 0.0530 - acc: 0.9825 - val_loss: 0.2131 - val_acc: 0.9370\n",
      "Epoch 44/100\n",
      "100/100 [==============================] - 26s 257ms/step - loss: 0.0414 - acc: 0.9855 - val_loss: 0.2217 - val_acc: 0.9340\n",
      "Epoch 45/100\n",
      "100/100 [==============================] - 26s 259ms/step - loss: 0.0473 - acc: 0.9815 - val_loss: 0.2178 - val_acc: 0.9360\n",
      "Epoch 46/100\n",
      "100/100 [==============================] - 26s 256ms/step - loss: 0.0412 - acc: 0.9855 - val_loss: 0.2536 - val_acc: 0.9350\n",
      "Epoch 47/100\n",
      "100/100 [==============================] - 27s 266ms/step - loss: 0.0425 - acc: 0.9835 - val_loss: 0.2673 - val_acc: 0.9360\n",
      "Epoch 48/100\n",
      "100/100 [==============================] - 26s 256ms/step - loss: 0.0485 - acc: 0.9855 - val_loss: 0.1957 - val_acc: 0.9380\n",
      "Epoch 49/100\n",
      "100/100 [==============================] - 26s 255ms/step - loss: 0.0367 - acc: 0.9850 - val_loss: 0.1912 - val_acc: 0.9340\n",
      "Epoch 50/100\n",
      "100/100 [==============================] - 26s 256ms/step - loss: 0.0488 - acc: 0.9810 - val_loss: 0.2523 - val_acc: 0.9340\n",
      "Epoch 51/100\n",
      "100/100 [==============================] - 26s 261ms/step - loss: 0.0390 - acc: 0.9845 - val_loss: 0.2053 - val_acc: 0.9370\n",
      "Epoch 52/100\n",
      "100/100 [==============================] - 26s 257ms/step - loss: 0.0354 - acc: 0.9875 - val_loss: 0.2114 - val_acc: 0.9350\n",
      "Epoch 53/100\n",
      "100/100 [==============================] - 26s 259ms/step - loss: 0.0345 - acc: 0.9890 - val_loss: 0.2241 - val_acc: 0.9390\n",
      "Epoch 54/100\n",
      "100/100 [==============================] - 26s 256ms/step - loss: 0.0391 - acc: 0.9835 - val_loss: 0.2402 - val_acc: 0.9380\n",
      "Epoch 55/100\n",
      "100/100 [==============================] - 26s 260ms/step - loss: 0.0405 - acc: 0.9860 - val_loss: 0.2362 - val_acc: 0.9340\n",
      "Epoch 56/100\n",
      "100/100 [==============================] - 25s 255ms/step - loss: 0.0264 - acc: 0.9900 - val_loss: 0.3138 - val_acc: 0.9210\n",
      "Epoch 57/100\n",
      "100/100 [==============================] - 26s 262ms/step - loss: 0.0348 - acc: 0.9880 - val_loss: 0.2386 - val_acc: 0.9280\n",
      "Epoch 58/100\n",
      "100/100 [==============================] - 25s 255ms/step - loss: 0.0359 - acc: 0.9860 - val_loss: 0.2383 - val_acc: 0.9270\n",
      "Epoch 59/100\n",
      "100/100 [==============================] - 26s 255ms/step - loss: 0.0335 - acc: 0.9875 - val_loss: 0.3503 - val_acc: 0.9260\n",
      "Epoch 60/100\n",
      "100/100 [==============================] - 25s 254ms/step - loss: 0.0345 - acc: 0.9845 - val_loss: 0.2083 - val_acc: 0.9380\n"
     ]
    },
    {
     "name": "stdout",
     "output_type": "stream",
     "text": [
      "Epoch 61/100\n",
      "100/100 [==============================] - 26s 256ms/step - loss: 0.0265 - acc: 0.9905 - val_loss: 0.2728 - val_acc: 0.9340\n",
      "Epoch 62/100\n",
      "100/100 [==============================] - 26s 257ms/step - loss: 0.0343 - acc: 0.9910 - val_loss: 0.2669 - val_acc: 0.9260\n",
      "Epoch 63/100\n",
      "100/100 [==============================] - 27s 267ms/step - loss: 0.0324 - acc: 0.9880 - val_loss: 0.2210 - val_acc: 0.9320\n",
      "Epoch 64/100\n",
      "100/100 [==============================] - 26s 258ms/step - loss: 0.0250 - acc: 0.9920 - val_loss: 0.2489 - val_acc: 0.9390\n",
      "Epoch 65/100\n",
      "100/100 [==============================] - 27s 265ms/step - loss: 0.0252 - acc: 0.9915 - val_loss: 0.2186 - val_acc: 0.9380\n",
      "Epoch 66/100\n",
      "100/100 [==============================] - 25s 255ms/step - loss: 0.0278 - acc: 0.9875 - val_loss: 0.2599 - val_acc: 0.9350\n",
      "Epoch 67/100\n",
      "100/100 [==============================] - 25s 254ms/step - loss: 0.0258 - acc: 0.9900 - val_loss: 0.2802 - val_acc: 0.9310\n",
      "Epoch 68/100\n",
      "100/100 [==============================] - 25s 255ms/step - loss: 0.0296 - acc: 0.9905 - val_loss: 0.2407 - val_acc: 0.9400\n",
      "Epoch 69/100\n",
      "100/100 [==============================] - 26s 261ms/step - loss: 0.0376 - acc: 0.9870 - val_loss: 0.2506 - val_acc: 0.9370\n",
      "Epoch 70/100\n",
      "100/100 [==============================] - 26s 257ms/step - loss: 0.0226 - acc: 0.9920 - val_loss: 0.2445 - val_acc: 0.9410\n",
      "Epoch 71/100\n",
      "100/100 [==============================] - 26s 257ms/step - loss: 0.0271 - acc: 0.9890 - val_loss: 0.2318 - val_acc: 0.9470\n",
      "Epoch 72/100\n",
      "100/100 [==============================] - 26s 257ms/step - loss: 0.0241 - acc: 0.9900 - val_loss: 0.2514 - val_acc: 0.9410\n",
      "Epoch 73/100\n",
      "100/100 [==============================] - 26s 263ms/step - loss: 0.0314 - acc: 0.9900 - val_loss: 0.2574 - val_acc: 0.9360\n",
      "Epoch 74/100\n",
      "100/100 [==============================] - 26s 265ms/step - loss: 0.0310 - acc: 0.9905 - val_loss: 0.2614 - val_acc: 0.9340\n",
      "Epoch 75/100\n",
      "100/100 [==============================] - 25s 255ms/step - loss: 0.0349 - acc: 0.9900 - val_loss: 0.3499 - val_acc: 0.9310\n",
      "Epoch 76/100\n",
      "100/100 [==============================] - 25s 255ms/step - loss: 0.0223 - acc: 0.9930 - val_loss: 0.2147 - val_acc: 0.9360\n",
      "Epoch 77/100\n",
      "100/100 [==============================] - 26s 256ms/step - loss: 0.0251 - acc: 0.9910 - val_loss: 0.2608 - val_acc: 0.9370\n",
      "Epoch 78/100\n",
      "100/100 [==============================] - 26s 258ms/step - loss: 0.0169 - acc: 0.9930 - val_loss: 0.2269 - val_acc: 0.9400\n",
      "Epoch 79/100\n",
      "100/100 [==============================] - 26s 256ms/step - loss: 0.0220 - acc: 0.9920 - val_loss: 0.4820 - val_acc: 0.9110\n",
      "Epoch 80/100\n",
      "100/100 [==============================] - 26s 257ms/step - loss: 0.0216 - acc: 0.9920 - val_loss: 0.2773 - val_acc: 0.9300\n",
      "Epoch 81/100\n",
      "100/100 [==============================] - 27s 267ms/step - loss: 0.0264 - acc: 0.9900 - val_loss: 0.3354 - val_acc: 0.9300\n",
      "Epoch 82/100\n",
      "100/100 [==============================] - 25s 255ms/step - loss: 0.0230 - acc: 0.9915 - val_loss: 0.2120 - val_acc: 0.9430\n",
      "Epoch 83/100\n",
      "100/100 [==============================] - 26s 260ms/step - loss: 0.0241 - acc: 0.9935 - val_loss: 0.2171 - val_acc: 0.9430\n",
      "Epoch 84/100\n",
      "100/100 [==============================] - 26s 261ms/step - loss: 0.0149 - acc: 0.9945 - val_loss: 0.4464 - val_acc: 0.9250\n",
      "Epoch 85/100\n",
      "100/100 [==============================] - 26s 257ms/step - loss: 0.0310 - acc: 0.9925 - val_loss: 0.2578 - val_acc: 0.9280\n",
      "Epoch 86/100\n",
      "100/100 [==============================] - 26s 256ms/step - loss: 0.0258 - acc: 0.9920 - val_loss: 0.2073 - val_acc: 0.9390\n",
      "Epoch 87/100\n",
      "100/100 [==============================] - 26s 256ms/step - loss: 0.0229 - acc: 0.9930 - val_loss: 0.2482 - val_acc: 0.9380\n",
      "Epoch 88/100\n",
      "100/100 [==============================] - 26s 256ms/step - loss: 0.0176 - acc: 0.9925 - val_loss: 0.3800 - val_acc: 0.9260\n",
      "Epoch 89/100\n",
      "100/100 [==============================] - 25s 254ms/step - loss: 0.0211 - acc: 0.9915 - val_loss: 0.2624 - val_acc: 0.9360\n",
      "Epoch 90/100\n",
      "100/100 [==============================] - 26s 255ms/step - loss: 0.0131 - acc: 0.9955 - val_loss: 0.2371 - val_acc: 0.9430\n",
      "Epoch 91/100\n",
      "100/100 [==============================] - 25s 254ms/step - loss: 0.0281 - acc: 0.9900 - val_loss: 0.3793 - val_acc: 0.9300\n",
      "Epoch 92/100\n",
      "100/100 [==============================] - 26s 257ms/step - loss: 0.0147 - acc: 0.9945 - val_loss: 0.3369 - val_acc: 0.9380\n",
      "Epoch 93/100\n",
      "100/100 [==============================] - 26s 256ms/step - loss: 0.0173 - acc: 0.9950 - val_loss: 0.2621 - val_acc: 0.9420\n",
      "Epoch 94/100\n",
      "100/100 [==============================] - 25s 254ms/step - loss: 0.0176 - acc: 0.9945 - val_loss: 0.2642 - val_acc: 0.9380\n",
      "Epoch 95/100\n",
      "100/100 [==============================] - 26s 257ms/step - loss: 0.0176 - acc: 0.9940 - val_loss: 0.2459 - val_acc: 0.9400\n",
      "Epoch 96/100\n",
      "100/100 [==============================] - 26s 255ms/step - loss: 0.0211 - acc: 0.9935 - val_loss: 0.2758 - val_acc: 0.9430\n",
      "Epoch 97/100\n",
      "100/100 [==============================] - 25s 255ms/step - loss: 0.0123 - acc: 0.9965 - val_loss: 0.2612 - val_acc: 0.9330\n",
      "Epoch 98/100\n",
      "100/100 [==============================] - 26s 258ms/step - loss: 0.0197 - acc: 0.9935 - val_loss: 0.4096 - val_acc: 0.9140\n",
      "Epoch 99/100\n",
      "100/100 [==============================] - 26s 256ms/step - loss: 0.0256 - acc: 0.9925 - val_loss: 0.2420 - val_acc: 0.9360\n",
      "Epoch 100/100\n",
      "100/100 [==============================] - 26s 257ms/step - loss: 0.0155 - acc: 0.9955 - val_loss: 0.2847 - val_acc: 0.9380\n"
     ]
    }
   ],
   "source": [
    "model.compile(loss='binary_crossentropy',\n",
    "              optimizer=optimizers.RMSprop(lr=1e-5),\n",
    "              metrics=['acc'])\n",
    "\n",
    "history = model.fit_generator(\n",
    "      train_generator,\n",
    "      steps_per_epoch=100,\n",
    "      epochs=100,\n",
    "      validation_data=validation_generator,\n",
    "      validation_steps=50)"
   ]
  },
  {
   "cell_type": "code",
   "execution_count": 21,
   "metadata": {},
   "outputs": [],
   "source": [
    "model.save('cats_and_dogs_small_4.h5')"
   ]
  },
  {
   "cell_type": "code",
   "execution_count": 22,
   "metadata": {},
   "outputs": [
    {
     "data": {
      "image/png": "[encoded data removed]",
      "text/plain": [
       "<Figure size 432x288 with 1 Axes>"
      ]
     },
     "metadata": {
      "needs_background": "light"
     },
     "output_type": "display_data"
    },
    {
     "data": {
      "image/png": "[encoded data removed]",
      "text/plain": [
       "<Figure size 432x288 with 1 Axes>"
      ]
     },
     "metadata": {
      "needs_background": "light"
     },
     "output_type": "display_data"
    }
   ],
   "source": [
    "acc = history.history['acc']\n",
    "val_acc = history.history['val_acc']\n",
    "loss = history.history['loss']\n",
    "val_loss = history.history['val_loss']\n",
    "\n",
    "epochs = range(len(acc))\n",
    "\n",
    "plt.plot(epochs, acc, 'bo', label='Training acc')\n",
    "plt.plot(epochs, val_acc, 'b', label='Validation acc')\n",
    "plt.title('Training and validation accuracy')\n",
    "plt.legend()\n",
    "\n",
    "plt.figure()\n",
    "\n",
    "plt.plot(epochs, loss, 'bo', label='Training loss')\n",
    "plt.plot(epochs, val_loss, 'b', label='Validation loss')\n",
    "plt.title('Training and validation loss')\n",
    "plt.legend()\n",
    "\n",
    "plt.show()"
   ]
  },
  {
   "cell_type": "code",
   "execution_count": 23,
   "metadata": {},
   "outputs": [
    {
     "data": {
      "image/png": "[encoded data removed]",
      "text/plain": [
       "<Figure size 432x288 with 1 Axes>"
      ]
     },
     "metadata": {
      "needs_background": "light"
     },
     "output_type": "display_data"
    },
    {
     "data": {
      "image/png": "[encoded data removed]",
      "text/plain": [
       "<Figure size 432x288 with 1 Axes>"
      ]
     },
     "metadata": {
      "needs_background": "light"
     },
     "output_type": "display_data"
    }
   ],
   "source": [
    "def smooth_curve(points, factor=0.8):\n",
    "  smoothed_points = []\n",
    "  for point in points:\n",
    "    if smoothed_points:\n",
    "      previous = smoothed_points[-1]\n",
    "      smoothed_points.append(previous * factor + point * (1 - factor))\n",
    "    else:\n",
    "      smoothed_points.append(point)\n",
    "  return smoothed_points\n",
    "\n",
    "plt.plot(epochs,\n",
    "         smooth_curve(acc), 'bo', label='Smoothed training acc')\n",
    "plt.plot(epochs,\n",
    "         smooth_curve(val_acc), 'b', label='Smoothed validation acc')\n",
    "plt.title('Training and validation accuracy')\n",
    "plt.legend()\n",
    "\n",
    "plt.figure()\n",
    "\n",
    "plt.plot(epochs,\n",
    "         smooth_curve(loss), 'bo', label='Smoothed training loss')\n",
    "plt.plot(epochs,\n",
    "         smooth_curve(val_loss), 'b', label='Smoothed validation loss')\n",
    "plt.title('Training and validation loss')\n",
    "plt.legend()\n",
    "\n",
    "plt.show()"
   ]
  },
  {
   "cell_type": "code",
   "execution_count": 24,
   "metadata": {},
   "outputs": [],
   "source": [
    "test_dir = '/notebooks/sharedfolder/work/data/cats_and_dogs_small/test'"
   ]
  },
  {
   "cell_type": "code",
   "execution_count": 25,
   "metadata": {},
   "outputs": [
    {
     "name": "stdout",
     "output_type": "stream",
     "text": [
      "Found 1000 images belonging to 2 classes.\n",
      "test acc: 0.9349999916553497\n"
     ]
    }
   ],
   "source": [
    "test_generator = test_datagen.flow_from_directory(\n",
    "        test_dir,\n",
    "        target_size=(150, 150),\n",
    "        batch_size=20,\n",
    "        class_mode='binary')\n",
    "\n",
    "test_loss, test_acc = model.evaluate_generator(test_generator, steps=50)\n",
    "print('test acc:', test_acc)"
   ]
  },
  {
   "cell_type": "code",
   "execution_count": null,
   "metadata": {},
   "outputs": [],
   "source": []
  }
 ],
 "metadata": {
  "kernelspec": {
   "display_name": "Python 3",
   "language": "python",
   "name": "python3"
  },
  "language_info": {
   "codemirror_mode": {
    "name": "ipython",
    "version": 3
   },
   "file_extension": ".py",
   "mimetype": "text/x-python",
   "name": "python",
   "nbconvert_exporter": "python",
   "pygments_lexer": "ipython3",
   "version": "3.5.2"
  }
 },
 "nbformat": 4,
 "nbformat_minor": 2
}
